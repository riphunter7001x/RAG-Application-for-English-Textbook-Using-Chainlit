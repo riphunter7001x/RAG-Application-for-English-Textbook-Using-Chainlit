{
 "cells": [
  {
   "cell_type": "code",
   "execution_count": 4,
   "metadata": {},
   "outputs": [],
   "source": [
    "# Loading required libraries \n",
    "from langchain_core.prompts import PromptTemplate\n",
    "from langchain_community.embeddings import OpenAIEmbeddings\n",
    "from langchain_community.vectorstores import FAISS\n",
    "from langchain_community.document_loaders import PyPDFLoader, DirectoryLoader\n",
    "from langchain_text_splitters import RecursiveCharacterTextSplitter"
   ]
  },
  {
   "cell_type": "code",
   "execution_count": 3,
   "metadata": {},
   "outputs": [],
   "source": [
    "# extarct the data from PDF\n",
    "def load_pdf(data_dir):\n",
    "    loader =DirectoryLoader(data_dir,\n",
    "                            glob = \"*.pdf\",\n",
    "                            loader_cls =PyPDFLoader)\n",
    "    documents = loader.load()\n",
    "    return documents"
   ]
  },
  {
   "cell_type": "code",
   "execution_count": 13,
   "metadata": {},
   "outputs": [],
   "source": [
    "extracted_data = load_pdf(r\"C:\\github\\openai\\basic_assignment\\data\")"
   ]
  },
  {
   "cell_type": "code",
   "execution_count": 14,
   "metadata": {},
   "outputs": [
    {
     "data": {
      "text/plain": [
       "[Document(page_content='THERE once lived a bir d and her two new-bor n babies in a\\nforest. They had a nest in a tall, shady tree and there the\\nmother bird took care of her little ones day and night.\\nOne day, ther e was a big stor m. Ther e was thunder ,\\nlightning and rain, and the wind blew down many trees. The\\ntall tree in which the birds lived also came down. A big, heavy\\nbranch hit the nest and killed the bird. Fortunately for the\\nbaby birds, the strong wind blew them away to the other side\\nof the forest. One of them came down near a cave where a\\ngang of robbers lived. The other landed outside a rishi’s\\nashram a little distance away.•A mother bird and her two young ones lived in a forest.\\n•The mother was killed in a stor m and the young bir ds wer e\\nseparated fr om each other .\\n•Each found a dif ferent home.1 11111A Tale of Two\\nBirds\\nRationalised 2023-24\\n', metadata={'source': 'C:\\\\github\\\\openai\\\\basic_assignment\\\\data\\\\fepw101.pdf', 'page': 0}),\n",
       " Document(page_content='2/A Pact with the Sun\\nDays passed and the baby birds became big birds. One\\nday, the king of the country came to the for est to hunt. He\\nsaw a deer and rode after it. It ran deep into the for est\\nfollowed by the king. Soon the king lost his way and didn’t\\nknow wher e he was.\\nHe rode on for a long time till he came to the other side of\\nthe for est. V ery tir ed by now, he got of f his horse and sat\\ndown under a tr ee that stood near a cave. Suddenly he hear d\\na voice cry out, “Quick! Hurry up! Ther e’s someone under the\\ntree. Come and take his jewels and his horse. Hurry , or else\\nhe’ll slip away.” The king was amazed. He looked up and saw\\na big, br own bir d on the tr ee under which he was sitting. He\\nalso hear d faint noises issuing fr om the cave. He quickly got\\non to his horse and r ode away as fast as he could.\\nSoon, he came to a clearing which looked like an ashram.\\nIt was the rishi’s  ashram. The king tied his horse to a tr ee\\nand sat down in its shade. Suddenly he hear d a gentle voice\\nannounce, “W elcome to the ashram, Sir . Please go inside and\\nrest. The rishi will be back soon. There’s some cold water in\\nthe pot. Please make yourself comfortable.” The king looked\\nup and saw a big, brown bird in the tree. He was amazed.\\n‘This one looks like the other bir d outside the cave,’ he said\\nto himself loudly.\\n“You ar e right, Sir ,” answer ed the bir d. “He is my br other\\nbut he has made friends with robbers. He now talks as they\\ndo. He doesn’t talk to me any more.” Just then the rishi entered\\nthe ashram.•The king was amazed to hear a similar voice again.\\n•He came to know the bir ds’ true story.\\n•He met the rishi who explained the behaviour of each bir d.\\nRationalised 2023-24\\n', metadata={'source': 'C:\\\\github\\\\openai\\\\basic_assignment\\\\data\\\\fepw101.pdf', 'page': 1}),\n",
       " Document(page_content='“Welcome, Sir ,” he said\\nto the king. “Please come\\ninside and make yourself\\nat home. Y ou look tir ed.\\nRest for a while. Then you\\ncan share my food.”\\nThe king told the rishi\\nthe story of the two birds\\nand how each had behaved\\nso differently though they\\nlooked so alike.  “The forest\\nis full of surprises”, he said.\\nThe holy man smiled\\nand said, “After all, one is known by the company one keeps.\\nThat bird has always heard the talk of robbers. He imitates\\nthem and talks about robbing people. This one has repeated\\nwhat he has always heard. He welcomes people to the ashram.\\nNow, come inside and rest. I’ll tell you more about this place\\nand these birds.”\\nQuestions\\n1.How did the two baby birds get separated?\\n2.Where did each of them find a home?\\n3.What did the first bird say to the stranger?\\n4.What did the second bird say to him?\\n5.How did the rishi explain the different ways in which\\nthe birds behaved?\\n6.Which one of the following sums up the story best?\\n(i)A bird in hand is worth two in the bush.\\n(ii)One is known by the company one keeps.\\n(iii) A friend in need is a friend indeed.A Tale of Two Birds/3\\nRationalised 2023-24\\n', metadata={'source': 'C:\\\\github\\\\openai\\\\basic_assignment\\\\data\\\\fepw101.pdf', 'page': 2}),\n",
       " Document(page_content='4/A Pact with the Sun\\nONCE a far mer and his wife lived in a village with their small\\nson. They loved him very much. “W e must have a pet,” the\\nfarmer said to his wife one day. “When our son grows up, he\\nwill need a companion. This pet will be our son’s companion.”\\nHis wife liked the idea.\\nOne evening, the far mer br ought with him a tiny\\nmongoose. “It’s a baby mongoose,” said his wife, “but will\\nsoon be fully gr own.  He will be a friend to our son.”•A  far mer, his wife and their small child lived in a village.\\n•There was also a baby mongoose in the house, who they believed\\nwould be their son’s companion and friend in futur e.\\n•One day the far mer and his wife went out leaving the child alone\\nwith the mongoose.2The Friendly\\nMongoose\\nRationalised 2023-24\\n', metadata={'source': 'C:\\\\github\\\\openai\\\\basic_assignment\\\\data\\\\fepw102.pdf', 'page': 0}),\n",
       " Document(page_content='Both the baby and the mongoose grew. In five or six\\nmonths the mongoose had grown to its full size — a lovely\\nanimal with two shining black eyes and a bushy tail. The\\nfarmer’s son was still a baby in the cradle, sleeping and\\ncrying alter nately.\\nOne day, the far mer’s wife wanted to go to the market.  She\\nfed the baby and rocked him to sleep in his little\\ncradle.  Picking up the basket, she said to her husband, “I’m\\noff to the bazar . The baby is sleeping. Keep an eye on him.\\nFrankly, I don’t like to leave the child alone with the mongoose.”\\n“You needn’t be afraid,” said the far mer.  “The mongoose\\nis a friendly animal.  It’s  as sweet as our baby and they ar e\\nthe best of friends, you know.”\\nThe wife went away, and the far mer, having nothing to\\ndo in the house, decided to go out and take a look at his\\nfields not far away. He ran into some friends on the way\\nback and didn’t r eturn for quite some time.\\n•The far mer’s wife r eturned home fr om the market carrying a\\nheavy basket.\\n•She found the mongoose at the entrance of the house with blood\\non his face and  paws.\\n•She jumped to the conclusion that it was her son’s blood, and\\nthe mongoose was the guilty one.The Friendly Mongoose/5\\nThe far mer’s wife finished her shopping and came back\\nhome with a basketful of groceries.  She saw the mongoose\\nsitting outside as if waiting for her . On seeing her he ran to\\nwelcome her , as was customary. The far mer’s wife took one\\nlook at the mongoose and screamed. “Blood!” she cried.  The\\nface and paws of the mongoose were smeared with blood.\\n“You wicked animal!  Y ou have killed my baby,” she\\nscreamed hysterically. She was blind with rage and with all\\nher strength brought down the heavy basket full of groceries\\nRationalised 2023-24\\n', metadata={'source': 'C:\\\\github\\\\openai\\\\basic_assignment\\\\data\\\\fepw102.pdf', 'page': 1}),\n",
       " Document(page_content='6/A Pact with the Sun\\nQuestions\\n1.Why did the far mer bring a baby mongoose into the\\nhouse?\\n2.Why didn’t the far mer’s wife want to leave the baby alone\\nwith the mongoose?\\n3.What was the far mer’s comment on his wife’s fears?\\n4.Why did the far mer’s wife strike the mongoose with her\\nbasket?\\n5.Did she r epent her hasty action?  How does she show\\nher r epentance?\\nDo you have a pet — a cat or a dog?  If not, would you like\\none?   How would you look after it?  Ar e you for or against\\nkeeping bir ds in a cage as pets?on the blood-smeared\\nmongoose and ran inside\\nto the child’s cradle.\\nThe baby was fast\\nasleep. But on the floor\\nlay a black snake tor n\\nand bleeding. In a flash\\nshe realised what had\\nhappened. She ran out\\nlooking for the mongoose.\\n“Oh!  Y ou saved my\\nchild! Y ou killed the snake! What have I done?” she cried\\ntouching the mongoose, who lay dead and still, unaware of\\nher sobbing. The far mer’s wife,  who had acted hastily and\\nrashly, stared long at the dead mongoose. Then she heard\\nthe baby crying.  Wiping her tears, she went in to feed him.\\n(a story from The Panchatantra)\\nRationalised 2023-24\\n', metadata={'source': 'C:\\\\github\\\\openai\\\\basic_assignment\\\\data\\\\fepw102.pdf', 'page': 2}),\n",
       " Document(page_content='IN a village in Iran there once lived a shepherd.  He was very\\npoor.  He did not have even a small cottage of his own.  He\\nhad never been to school or lear nt to r ead and write, for\\nthere wer e very few schools in those days.\\nThough poor and uneducated, this shepherd was very\\nwise.  He understood people’s sorrows and troubles, and\\nhelped them face their\\nproblems with courage and\\ncommon sense.  Many\\npeople came to him for\\nadvice. Soon he became\\nfamous for his wisdom and\\nfriendly nature. The king of\\nthat country heard about\\nhim, and thought of\\nmeeting him.\\nDisguised as a shepherd\\nand riding on a mule, one\\nday the king came to\\nthe cave where the wise•A poor shepher d once lived in Iran.\\n•Though uneducated, he was very wise and helpful.\\n•The king decided to meet him in disguise.3The Shepherd’s\\nTreasure\\nRationalised 2023-24\\n', metadata={'source': 'C:\\\\github\\\\openai\\\\basic_assignment\\\\data\\\\fepw103.pdf', 'page': 0}),\n",
       " Document(page_content='8/A Pact with the Sun\\nshepherd lived.  As soon as the shepherd saw the traveller coming\\ntowards the cave, he rose to welcome him.  He took the tired\\ntraveller inside the cave, gave him water to drink and a share of\\nhis own meagre meal.  The king rested for the night in the cave\\nand was greatly impressed by the shepherd’s hospitality and\\nwise conversation.\\nThough still tired, the king decided to depart the next\\nmorning. He said, “Many thanks for your kindness to a poor\\ntraveller . I have a long way to go. Per mit me to leave.”\\nLooking straight into the eyes of his guest, the shepher d\\nreplied, “Thank you, Y our Majesty, for paying me the\\ncompliment of a visit.”\\nThe king was astonished as well as pleased. ‘He is indeed\\nvery wise.’ he thought to himself. ‘I need people like him to\\nwork for me.’ And the king appointed this humble shepherd\\nthe gover nor of a small district.\\nAlthough he r ose to power and dignity, the shepher d\\nremained as humble as ever . People loved and honour ed\\nhim for his wisdom, sympathy and goodness. He was kind\\nand just to one and all. His fame as a fair and wise gover nor\\nsoon spr ead thr oughout the country.\\nNow the gover nors of other pr ovinces gr ew terribly jealous\\nof him and began to talk to the king against him. They said,\\n“He is very dishonest, and keeps for himself part of the money\\nthat he collects as tax fr om the people.” Why did he always\\ncarry with him, they added, an ir on chest? Per haps he carried\\nin it the tr easur e that he had secr etly collected. After all,•The shepherd was able to make out that his visitor was none\\nother than the king.\\n•The king made the wise shepher d gover nor of a small district.\\n•Other gover nors became jealous of the new gover nor and called\\nhim dishonest.\\nRationalised 2023-24\\n', metadata={'source': 'C:\\\\github\\\\openai\\\\basic_assignment\\\\data\\\\fepw103.pdf', 'page': 1}),\n",
       " Document(page_content='they said mockingly, he was an ordinary shepherd and\\ncould behave no better .\\nAt first the king did not pay attention to these r eports,\\nbut how long could he ignor e these gover nors and their\\nendless stories about the shepher d? One thing was certain,\\nthe king discover ed. The new gover nor did carry an ir on\\nchest with him all the time.\\nSo, one day, the new gover nor was summoned to the\\npalace. He came riding on his camel, and to everyone’s\\ndelight, the famous ir on chest was ther e fastened securely\\nbehind him on the camel’s back.\\nNow the king was angry. He thunder ed, “Why do you\\nalways carry that ir on chest with you? What does it contain?”\\nThe gover nor smiled.\\nHe asked his servant to\\nbring in the chest. How\\neagerly the people stan-\\nding ar ound waited for\\nthe shepher d to be found\\nout! But how gr eat was\\ntheir astonishment, and\\neven of the king himself,\\nwhen the chest was\\nopened! No gold or silver\\nor jewels but an old\\nblanket was all that\\ncame out. Holding it up•The new gover nor was called to the palace.\\n•He was ordered to explain why he always carried an iron chest.\\n•The chest contained no gold or silver .The Shepherd’s Treasure/9\\nRationalised 2023-24\\n', metadata={'source': 'C:\\\\github\\\\openai\\\\basic_assignment\\\\data\\\\fepw103.pdf', 'page': 2}),\n",
       " Document(page_content='10/A Pact with the Sun\\nproudly, the shepher d said, “This, my dear master , is my\\nonly tr easur e.  I always carry it with me.”\\n“But why do you carry such an ordinary blanket with you?\\nSurely, you ar e the gover nor of a district?” the king asked.\\nTo which the shepher d replied with quiet dignity, “This\\nblanket is my oldest friend.  It will still pr otect me if, at any\\ntime, Y our Majesty should wish to take away my new cloaks.”\\nHow pleased the king was, and how embarrassed the\\njealous gover nors became to hear the wise man’s r eply!  Now\\nthey knew that the shepher d was indeed the humblest and\\nthe wisest man in the land.  The king made him the gover nor\\nof a much bigger district that very day.\\n(an Iranian folktale)\\nQuestions\\n1.The shepher d hadn’t been to school because\\n(i)he was very poor .\\n(ii)there wer e very few schools in those days.\\n(iii)he wasn’t inter ested in studies.\\n    Choose the right answer .\\n2.Who visited the shepher d one day, and why?\\n3.Why did the other gover nors gr ow jealous of the shepher d?\\n4.Why was the new gover nor called to the palace?\\n5.Why was everyone delighted to see the ir on chest on the\\ncamel’s back?\\n6.(i)What did the ir on chest contain?\\n(ii)Why did the shepher d always carry it?\\n(iii)Is it an example of the shepher d’s humility or wisdom\\nor both?\\n7.How did the king r eward the new gover nor?\\nRationalised 2023-24\\n', metadata={'source': 'C:\\\\github\\\\openai\\\\basic_assignment\\\\data\\\\fepw103.pdf', 'page': 3}),\n",
       " Document(page_content='YOU may have heard the name of Tansen — the greatest\\nmusician our country has pr oduced.\\nA singer called Mukandan Misra and his wife lived in\\nBehat near Gwalior . Tansen was their only child. It is said\\nthat he was a naughty child. Often, he ran away to play in\\nthe for est, and soon lear nt to imitate per fectly the calls of\\nbirds and animals.•Tansen was the only child of his parents.\\n•Naughty but talented, he imitated the calls of birds and\\nanimals perfectly.\\n•Once he tried to frighten a group of travellers by roaring\\nlike a tiger .\\nRationalised 2023-24\\n', metadata={'source': 'C:\\\\github\\\\openai\\\\basic_assignment\\\\data\\\\fepw104.pdf', 'page': 0}),\n",
       " Document(page_content='12/A Pact with the Sun\\nA famous singer named Swami Haridas was once travelling\\nthrough the for est with his disciples. T ired,\\nthe group settled down to rest in a shady grove. Tansen\\nsaw them.\\n‘Strangers in the forest! ’ he said to himself. ‘It will be fun to\\nfrighten them ’. He hid behind a tr ee and r oared like a tiger .\\nThe little gr oup of travellers scatter ed in fear but Swami\\nHaridas called them together . “Don’t be afraid,” he said. “T igers\\nare not always danger ous. Let us look for this one.”\\nSuddenly, one of his men saw a small boy hiding behind\\na tree. “Ther e are no tigers her e, master ,” he said. “Only this\\nnaughty boy.”\\n•Tansen lear nt music fr om Swami Haridas for eleven years.\\n•He stayed with a holy man called Mohammad Ghaus.\\n•He married Hussaini, one of the ladies in the court of\\nRani Mrignaini.\\nSwami Haridas did not punish him. He went to Tansen’s\\nfather and said, “Y our son is very naughty. He is also very\\ntalented. I think I can make him a good singer .”\\nTansen was ten years old when he went away with Swami\\nHaridas. He lived with him for eleven years, lear ning music,\\nand became a gr eat singer . At about this time, his par ents\\ndied. Mukandan Misra’s dying wish was that T ansen should\\nvisit Mohammad Ghaus of Gwalior . Mohammad Ghaus was a\\nholy man. Mukandan Misra had long been devoted to him,\\nand often visited him. While living in Gwalior with Mohammed\\nGhaus, T ansen was often taken to the court of Rani Mrignaini,\\nwho was a gr eat musician herself. Ther e he met and married\\none of the ladies of the court. Her name was Hussaini.\\nHussaini also became Swami Haridas’s disciple. T ansen\\nand Hussaini had five childr en who wer e all very musical.\\nRationalised 2023-24\\n', metadata={'source': 'C:\\\\github\\\\openai\\\\basic_assignment\\\\data\\\\fepw104.pdf', 'page': 1}),\n",
       " Document(page_content='Tansen had, by this time, become very famous. Sometimes\\nhe sang befor e Emper or Akbar , who was so impr essed by\\nhim that he insisted Tansen should join his court.\\n•Tansen became a favourite in Akbar’s court.\\n•Once he was asked to sing Raga Deepak.\\n•Tansen asked his daughter and her friend to sing Raga Megh\\nafter Raga Deepak to counteract the ef fect of the latter .\\nTansen went to Akbar’s court in 1556, and soon became\\na great favourite of the Emper or. Akbar would call upon\\nTansen to sing at any time during the day or night. Quite\\noften he would just walk into T ansen’s house to hear him\\npractise. He also gave him many pr esents. Some of the\\ncourtiers became jealous of T ansen. “W e shall never be able\\nto rest till T ansen is ruined,” they declar ed. One of the\\ncourtiers, Shaukat Mian, had a bright idea.\\n“Let us make him sing Raga Deepak”, he said.\\n“How will that help us?” asked another man.\\n“If Raga Deepak is pr operly sung, it makes the air so hot\\nthat the singer is bur nt to ashes. T ansen is a very good singer .\\nIf he sings Raga Deepak, he will die, and we will be rid of him.”\\nShaukat Mian went to Akbar and said, “W e don’t think\\nTansen is a gr eat singer . Let us test him. T ell him to sing\\nRaga Deepak. Only the gr eatest singers can sing it pr operly.”\\n“Of course he can sing it. T ansen can sing anything”.\\nAkbar said. T ansen was afraid, but could not disobey the\\nking. “V ery well, my lor d,” he said, “but give me time to\\nprepare myself.” T ansen went home. He had never been mor e\\ndowncast and unhappy. “I can sing the Raga,” he told his\\nwife, “but the heat it gives of f will not only set the lamps\\nalight, it will also bur n me to ashes.”Tansen/13\\nRationalised 2023-24\\n', metadata={'source': 'C:\\\\github\\\\openai\\\\basic_assignment\\\\data\\\\fepw104.pdf', 'page': 2}),\n",
       " Document(page_content='14/A Pact with the Sun\\nThen he had an idea. “If someone sings Raga Megh at the\\nsame time, and sings it pr operly, it will bring rain. Per haps\\nour daughter , Saraswati, and her friend, Rupvati, could do\\nit,” he said.\\nHe taught the two girls to sing Raga Megh. They practised\\nnight and day for two weeks. T ansen told them, “Y ou must\\nwait till the lamps start bur ning, and then you start singing. ”\\nThe legend goes that on the appointed day the whole town\\nassembled to hear T ansen sing Raga Deepak. When he began\\nto sing, the air became war m. Soon people in the audience\\nwere bathed in perspiration. The leaves on the tr ees dried\\nup and fell to the gr ound. As the music continued, bir ds fell\\ndead because of the heat and the water in the rivers began•Both Ragas wer e sung accor ding to plan.\\n•Akbar punished Tansen’s enemies.\\n•Tansen died in 1585.\\nRationalised 2023-24\\n', metadata={'source': 'C:\\\\github\\\\openai\\\\basic_assignment\\\\data\\\\fepw104.pdf', 'page': 3}),\n",
       " Document(page_content='Questions\\n1.Why did Swami Haridas say Tansen was ‘talented’?\\n2.Why did Akbar ask Tansen to join his court?\\n3.How do we know that Akbar was fond of Tansen?  Give\\ntwo reasons.\\n4.What did the other courtiers feel about Tansen?\\n5.(i)What happens if Raga Deepak is sung properly?\\n(ii)Why did T ansen’s enemies want him to sing the Raga?\\n6.Why did T ansen agr ee to sing Raga Deepak?\\n7.(i)What steps did he take to save himself?\\n(ii)Did his plan work? How?\\nAre you inter ested in music? Do you like classical music?\\nName a few distinguished Indian musicians.to boil. People cried out in terror as flames shot up out of\\nnowher e and lighted the lamps.\\nAt once Saraswati and Rupvati began to sing Raga Megh.\\nThe sky clouded over and the rain came down. T ansen was\\nsaved. The story goes that he was very ill after this, and\\nAkbar was sorry that he had caused him so much suf fering.\\nHe punished T ansen’s enemies. When T ansen got well, the\\nentire city r ejoiced. T ansen r emained Akbar’s court singer\\ntill 1585 when he died. He composed several new ragas.\\nTansen’s tomb is in Gwalior . It is a place of pilgrimage for\\nmusicians.Tansen/15\\nRationalised 2023-24\\n', metadata={'source': 'C:\\\\github\\\\openai\\\\basic_assignment\\\\data\\\\fepw104.pdf', 'page': 4}),\n",
       " Document(page_content='16/A Pact with the Sun\\nONCE, on the bank of a river , a monkey made a home for\\nhimself in a tree laden with fruit. He lived in it happily eating\\nto his heart’s content the fruit of his choice.\\nThe monkey was happy but lonely and wanted a\\ncompanion to talk to and shar e the fruits with.  But ther e\\nwas no one ar ound, not even another monkey, till one day a\\ncrocodile appeared on the riverside.\\n“Hello, there,” said the monkey.  “Do you live in this river?\\nWould you like to eat some fruit?”\\n“Good mor ning,” r eplied the cr ocodile politely.  “I did come\\nhere in search of food for myself and my wife.  Nice of you to\\noffer me fruit.”•A monkey lived in a fruit tr ee on the bank of a river .\\n•He made friends with a crocodile, gave him delicious fruits to\\neat and sent some for his wife.\\n•They met regularly and talked — the monkey in the tree and\\nthe crocodile on the ground.\\nRationalised 2023-24\\n', metadata={'source': 'C:\\\\github\\\\openai\\\\basic_assignment\\\\data\\\\fepw105.pdf', 'page': 0}),\n",
       " Document(page_content='The monkey plucked some from the nearest branch and\\nthrew them down. The crocodile found them delicious.\\n“Thanks,” he said. “May I have some on my next visit?”\\n“Certainly, as many as you like and some for your wife\\ntoo,” said the monkey. “Do come again. I’m rather lonely here”.\\nThe crocodile visited the monkey regularly and ate the\\nfruits which his host threw down. He took some home for his\\nwife. The monkey and the crocodile were now the best of\\nfriends. They talked and were never tired of talking. They\\ntalked about birds and animals, about the villages nearby\\nand the difficulties villagers faced in raising good crops\\nfor lack of rain.\\nOne day, the crocodile stayed with the monkey longer than\\nusual. His wife was annoyed waiting and waiting managing\\nthe little crocodiles that had just been hatched. She said,\\n“Who is this friend of yours you are so fond of?”\\n“Oh, he is a very nice monkey,” he replied. “He lives on a\\nfruit-tr ee. He sends fruits for you everyday. Y ou don’t expect\\nme to climb trees, do you?”\\n“A nice monkey, I’m sure,” replied the wife with obvious\\nsarcasm. “If you ask me, this monkey should be my food. I\\nwant to eat his heart so much.”\\n“What a foolish thing to say!” shouted the crocodile. “I\\ncan’t kill a friend, though I won’t mind a monkey occasionally\\nfor a change of taste.”\\n“You bring him her e,” ordered the wife. “I want to see him.”\\n“So you can eat him. Never!” declared her husband.•The crocodile’s wife was annoyed because her husband came\\nhome late.\\n•She didn’t like his friendship with the monkey.\\n•The crocodile couldn’t altogether ignore his wife’s wishes.The Monkey and the Crocodile/17\\nRationalised 2023-24\\n', metadata={'source': 'C:\\\\github\\\\openai\\\\basic_assignment\\\\data\\\\fepw105.pdf', 'page': 1}),\n",
       " Document(page_content='18/A Pact with the Sun\\nHis wife was furious and she dived in to hide herself at the\\nbottom of the river leaving the little ones to pester their father .\\nThe crocodile was in a serious dilemma. He loved his wife\\nand was very fond of his friend too.  Finally, he decided to be\\non the side of his wife.  She was his life-partner after all.  ‘I\\nknow it’s a sin to betray a friend, but I have no choice,’ he\\nsaid to himself.  ‘I’ll invite the monkey home and hope\\nfor the best.’\\n“My wife wants you over for a meal, dear friend,” said the\\ncrocodile when he visited the monkey next.  “Y ou must come\\nhome with me today.”\\n“With pleasur e,” said the monkey.  “I’m no swimmer , but\\ncan ride on your back.”  And they set out.\\nIn the middle of the river , where the curr ent was the\\nstrongest, the cr ocodile could no longer hide his intention.\\n“Sorry, my friend,” he said hesitatingly, “but I have to go\\nunder water now.  I’ve br ought you her e to kill you.  My wife\\ncannot survive without eating your heart.  Good bye.”\\nRationalised 2023-24\\n', metadata={'source': 'C:\\\\github\\\\openai\\\\basic_assignment\\\\data\\\\fepw105.pdf', 'page': 2}),\n",
       " Document(page_content='The monkey was scared and distressed. But he was sensible\\nand clever like all monkeys. He kept a cool head. Calmly he\\nsaid, “I’d do anything for you and your family. Y ou are my only\\nfriend. After all, what is a monkey’s heart compared with the life\\nof a crocodile’s wife? But how foolish could you be? Why didn’t\\nyou tell me before? I’d have brought my heart along.”\\n“But where is your heart?” asked the crocodile innocently.\\n“I thought you carried it all the time.”\\n“Of course not. It’s there on the tree. Let’s swim back at\\nonce and get it. Y our wife must be waiting,” r eplied the monkey\\ngaining confidence.\\n“Oh dear! What a mistake!” hissed the crocodile. They laughed\\nloudly as the cr ocodile took a full tur n to reach the tr ee.\\n•The monkey was thunderstruck.  He knew his life was in danger .\\n•He kept his cool and persuaded the crocodile on a pretext to\\nswim back to the tree.\\n•He decided then to discontinue his friendship with the crocodile.The Monkey and the Crocodile/19\\nRationalised 2023-24\\n', metadata={'source': 'C:\\\\github\\\\openai\\\\basic_assignment\\\\data\\\\fepw105.pdf', 'page': 3}),\n",
       " Document(page_content='20/A Pact with the Sun\\nQuestions\\n1.The monkey was happy living in the fruit tree, but his\\nhappiness was not complete. What did he miss?\\n2.What did the two friends generally talk about?\\n3.Why was the crocodile’s wife annoyed with her husband\\none day?\\n4.Why was the crocodile unwilling to invite his friend\\nhome?\\n5.What did the crocodile tell the monkey midstream?\\n6.How did the monkey save himself?\\n7.What does the last sentence of the story suggest? What\\nwould the crocodile tell his wife?\\nOn the river-bank, the monkey\\njumped on to the tree and heaved a\\ndeep sigh of relief. He plucked a fruit\\nor two from the nearest branch and\\nthrowing them down said, “Let your\\nwife have some fruit rather than my\\nheart. Fresh fruits are good for mind\\nand body. Good bye, friend, and if you\\ndon’t mind, we won’t meet again.”\\nThe cr ocodile, sadder and wiser , shed\\na few tears which were genuine and\\nturned back to go home. He was in a\\nhurry to tell his wife a thing or two.\\n(a story from The Panchatantra)\\nRationalised 2023-24\\n', metadata={'source': 'C:\\\\github\\\\openai\\\\basic_assignment\\\\data\\\\fepw105.pdf', 'page': 4}),\n",
       " Document(page_content='WE know enough about what sleep is, though we don’t know\\nwhat exactly causes sleep. Sleep is a state of rest — an\\nunconscious rest. When we sleep, our body recovers from\\nfatigue caused by the day’s activities. After a good sleep and\\nthe rest that it gives, we\\nbecome alert and active\\nagain, r eady for the nor mal\\nactivities of the day.\\nWhen we wake up in\\nthe mor ning, it is not\\nalways possible for us to\\nremember what hap-\\npened when we were\\nasleep. W e may r emember\\na dream but the rest of\\nour sleep was a kind of\\ndarkness in which\\nnothing seems to have\\ntaken place.•Our body and brain recover from fatigue after a good sleep.\\n•We dream while sleeping, but we do not always r emember\\nour dreams.\\n•During sleep, our heartbeat becomes slower and our temperature\\nand blood pressure go down.\\nRationalised 2023-24\\n', metadata={'source': 'C:\\\\github\\\\openai\\\\basic_assignment\\\\data\\\\fepw106.pdf', 'page': 0}),\n",
       " Document(page_content='22/A Pact with the Sun\\nSeveral things happen to our body while we are sleeping.\\nAs we sink deeper into sleep, our muscles relax more and\\nmore. Our heartbeat becomes slower . Our temperatur e and\\nblood pr essur e go down. The ever -active brain also slows\\ndown so that we can’t think or act consciously. But we dream.\\nWhen we wake up, our temperature and blood pressure\\nrise to nor mal. Our heartbeat and br eathing also become\\nnormal and we ar e fully awake, and have for gotten most, if\\nnot all, the dr eams that we had while sleeping.\\nWhat is a dream? It is an activity of the mind that takes\\nplace when we are asleep. Some dreams are probable\\nwhile others are not. That only means that many of the\\nthings that happen in dreams could happen when we are\\nawake. Others could not.  Dreams seem to be important\\nfor several reasons. One is that a dream can help us to\\nsleep through noise or other disturbances. For example,\\nthe alar m clock rings, but our mind causes us to dr eam\\nthat the telephone or doorbell is ringing, and that we are\\nawake and answering it.\\nCertain doctors have found that one’s dreams often reveal a\\ngreat deal about one’s problems and that, if understood correctly,\\nthey can provide a key to the solution of those problems. But\\nwe must remember one thing. Dreams cannot be used as a way\\nto tell the future. They simply can never tell the future.\\nSleep is the most common experience, but how many of\\nus really think about the wonder and power of sleep? Many•A dream is an activity of the mind when we are asleep.\\n•Dreams help us sleep through noise and other disturbances.\\n•Dreams may reveal something about one’s problems, but they\\ncannot tell the future.\\nRationalised 2023-24\\n', metadata={'source': 'C:\\\\github\\\\openai\\\\basic_assignment\\\\data\\\\fepw106.pdf', 'page': 1}),\n",
       " Document(page_content='Questions\\n1.What is the most obvious advantage of sleep?\\n2.What happens to our body when we sleep?\\n3.Define a dream in your own words.\\n4.Why are dreams important? Mention two reasons.\\n5.Why has sleep been called a wonder?\\n6.Describe briefly to the class an improbable dream you\\nhave ever had.\\nGrandmothers and mothers sing nice little songs while\\nrocking little ones to sleep.  Such a song is called a ‘lullaby’.\\nDo you remember a lullaby in your own language?  Tell the\\nclass in English what the lullaby says.poets have written beautiful poems about sleep.  Here is one\\nin which the poet is describing the experience of falling asleep.\\nRead it aloud.\\nI have come to the bor ders of sleep,\\nThe unfathomable deep\\nForest wher e all must lose\\nTheir way, however straight,\\nOr winding, soon or late;\\nThey cannot choose.\\nThere is not any book\\nOr face of dear est look\\nThat I would not tur n from now\\nTo go into the unknown\\nI must enter and leave alone\\nI know not how.\\nEDWARD THOMASThe Wonder  Called Sleep/23\\nLights Out\\nRationalised 2023-24\\n', metadata={'source': 'C:\\\\github\\\\openai\\\\basic_assignment\\\\data\\\\fepw106.pdf', 'page': 2}),\n",
       " Document(page_content='24/A Pact with the Sun\\nSAEEDA ’S mother had been ailing for a long time —fever, cough,\\nbody-ache, painful joints and what not. T reated by a variety\\nof physicians for weeks, she often showed signs of\\nimprovement but soon r elapsed into her old, sick self, one\\ncomplaint substituted by another . Though weak and\\ncolourless, she was forbidden nor mal food and was under\\nstrict or ders to r emain perpetually confined to her small,\\ndingy r oom with doors and windows fastened, deprived of\\nsunshine and fr esh air .\\n•Saeeda’s mother has not received proper medical treatment\\nfor her complaints.\\n•She is denied healthy food, sunshine and fr esh air .\\n•At last, she consults a good physician who gives her effective\\nmedicine and sound advice.\\nRationalised 2023-24\\n', metadata={'source': 'C:\\\\github\\\\openai\\\\basic_assignment\\\\data\\\\fepw107.pdf', 'page': 0}),\n",
       " Document(page_content='When she became critical, her relatives and neighbours\\npersuaded her to consult a specialist even though his fee\\nwas likely to be high. Life is more precious than money, they\\nsaid. Saeeda’s mother was poor but she heeded their advice\\nand sold a few trinkets to pay the doctor’s fee and the\\ncost of medicine.\\nThe doctor came in a few days and examined her and\\nprescribed effective but costly medicine. To the question as\\nto what she should eat he said, “Anything you wish to eat —\\nchapati, vegetables, milk, fruits, etc. In addition to all this,”\\nhe added emphatically, “leave this dark hovel and occupy a\\nbigger room with doors and windows open. Sit in the sun\\nevery mor ning fr om eight to nine. Sunshine and fr esh air ,” he\\nconcluded, “are more important than medicine.”\\nThe doctor and his advice became a subject of noisy\\ncommentary among all present. Some favoured while others\\nopposed it. Exposure to sun and air for someone afflicted with\\nchronic cough was dangerous, an experienced lady declared. A\\nyounger neighbour nearly quarrelled with her over this. Too\\nexhausted to participate in the debate, Saeeda’s mother\\nremained quiet but deter mined to follow the doctor’s advice.\\n“Forget the consequences,” she said at last. “I’ll carry out his\\ninstructions to the letter . Move my bed into the next r oom and\\nlet me sit in the sun on my charpoy for an hour daily .”\\nIt so happened that the sky remained overcast next\\nmorning. The same was the case the following day. Saeeda’s•The sky remains overcast with clouds for a few days.\\n•Saeeda makes a special request to the sunrays to help her\\nmother get well.\\n•The sunrays keep their word, come down in large numbers\\nand give new life to Saeeda’s mother .A Pact with the Sun/25\\nRationalised 2023-24\\n', metadata={'source': 'C:\\\\github\\\\openai\\\\basic_assignment\\\\data\\\\fepw107.pdf', 'page': 1}),\n",
       " Document(page_content='26/A Pact with the Sun\\nmother was dejected. She muttered, “O Lord of mine, why\\nhave you ordered the sun to remain hidden? How will I\\never be cured?”\\nSaeeda was playing with her doll nearby and she heard\\nher mother’s lament but kept calm. Later in the after noon,\\nwhen she stumbled on a spot of pale sunshine in the\\ncourtyard, she ran to her mother to say the sun was there.\\n“No, no”, said everybody pr esent. “It’s too late and chilly. Y our\\nmother can’t sit out ther e.” Disheartened, Saeeda r eturned\\nto her doll. There was no sun really except for its last remnant\\nentangled in the top branches of the family mango tree.\\nNow, children have at their command a secret language,\\nforeign to gr own-ups altogether , in which they fluently\\ncommunicate with trees, flowers, animals, the sun and the\\nmoon, perhaps even with the Almighty. Using that special\\nlanguage, Saeeda addressed her remark to the last departing\\nray of the sun. “Dear est sister , do come tomorr ow with lots of\\nwarmth and brightness. Y ou see, my mother is ill and needs\\nyour help.”\\n“Surely,” answered the light,\\n“don’t look unhappy. W e’ll be her e\\nat the fixed hour .”\\nNext day, early in the mor ning,\\nwhen the sprightly sunrays\\nembellished themselves for their\\njourney down to earth, the sun said,\\n“It’s our day of f again. W e’re staying\\nup here. The road to earth is\\nblocked by an ar my of thick, mucky\\nclouds.” The little rays so much\\nwanted to go down for a lark but\\nthey remained quiet. One of them,\\nthough, who had made a pact with\\nRationalised 2023-24\\n', metadata={'source': 'C:\\\\github\\\\openai\\\\basic_assignment\\\\data\\\\fepw107.pdf', 'page': 2}),\n",
       " Document(page_content='A Pact with the Sun/27\\nlittle Saeeda said, “Sir , I can’t stay back. I’ve given my wor d\\nto Saeeda whose mother is ill and needs our help. I’ll pierce\\nthrough the clouds to reach Saeeda’s courtyard. How else\\nwill her mother be cured?” Hearing this, all the rays nearly\\nstaged a r evolt against their father , the sun. “Fancy staying\\nback again,” they said in a single voice. “What will the people\\nof the earth say about us? That we of the heavens have\\nturned liars?”\\nThe sun relented. “Please yourselves,” he said. “Mind your\\nclothes, though. The clouds are mucky.”\\n“Never mind our clothes. W e can always change. But go\\nwe must.” And the rays rushed towards the earth. The clouds\\nstood guard between them and Saeeda’s courtyard. The little\\nrays focussed their heat — and they had enough of it — on a\\nbattalion of clouds, which had to flee from its post. The rays\\ngot through, shooting past the bewildered clouds. They were\\nalready late.\\nRationalised 2023-24\\n', metadata={'source': 'C:\\\\github\\\\openai\\\\basic_assignment\\\\data\\\\fepw107.pdf', 'page': 3}),\n",
       " Document(page_content='28/A Pact with the Sun\\nSaeeda saw the whole host of them approaching and her\\nheart leapt with joy. She shouted, “ Amma , Amma ! The sun is\\nhere. Come out.” The old lady’s eyes welled up with tears of\\ngratitude. Her c harpoy  was placed in the courtyard and she sat\\non it for an hour reclining against bolsters. It had been months\\nsince she had felt the sun on her hands and face and breathed\\nin fresh air . She thought she was in a new world. Though pale,\\nher face glowed and her eyes shone bright. She saw her child\\ntoo bathed in sunlight and kissed her . The mor ning air br ought\\nin a new fragrance from nearby flowers. The birds chanted a\\nnew tune. Saeeda’s mother felt better already.\\nShe is fully recovered now, but she still follows the doctor’s\\nadvice — an hour of sunlight and lungfuls of fresh air every day.\\nZAKIR HUSAIN\\n[translated from the Urdu and\\nslightly modified]\\nQuestions\\n1.What did the physicians ask Saeeda’s mother to do to\\nget well? Did their advice help her? If not, why?\\n2.What did the specialist prescribe in addition to\\nmedicine?\\n3.What did Saeeda tell the sunrays to do?\\n4.Why were the sunrays keen to go down to the earth the\\nnext day?\\n/circle6What is your own formula for keeping good health?\\n/circle6Who would you recommend to a patient in your\\nneighbourhood — the physicians contacted first or the\\nspecialist contacted next?  Give reasons for your choice.\\n/circle6When would you make a pact with the sun?  When you\\nare going on a picnic, or when you are playing a cricket\\nmatch?  Think of other occasions.\\nRationalised 2023-24\\n', metadata={'source': 'C:\\\\github\\\\openai\\\\basic_assignment\\\\data\\\\fepw107.pdf', 'page': 4}),\n",
       " Document(page_content='Rationalised 2023-24\\n', metadata={'source': 'C:\\\\github\\\\openai\\\\basic_assignment\\\\data\\\\fepw1ps.pdf', 'page': 0}),\n",
       " Document(page_content='First Edition\\nFebruary 2006  Phalguna 1927\\nReprinted\\nJanuary 2007, October 2007,\\nMarch 2009, December 2009,\\nJanuary 2011, January 2012,\\nDecember 2012, November 2013,\\nDecember 2014, December 2015,\\nDecember 2016, October 2017,\\nDecember 2018, August 2019,\\nAugust 2021 and November 2021\\nRevised Edition\\nNovember 2022 Agrahayana 1944\\nPD 300T BS\\n© National Council of Educational\\nResearch and Training, 2006,\\n2022\\n` 35.00ALL RIGHTS RESERVED\\n/boxshadowdwnNo part of this publication may be reproduced, stored in a retrieval system\\nor transmitted, in any form or by any means, electronic, mechanical,\\nphotocopying, recording or otherwise without the prior permission of the\\npublisher.\\n/boxshadowdwnThis book is sold subject to the condition that it shall not, by way of trade,\\nbe lent,  re-sold, hired out or otherwise disposed of without the publisher’s\\nconsent, in any form of binding or cover other than that in which it is published.\\n/boxshadowdwnThe correct price of this publication is the price printed on this page, Any\\nrevised price indicated by a rubber stamp or by a sticker or by any other means\\nis incorrect and should be unacceptable.\\nOFFICES OF THE PUBLICA TION\\nDIVISION, NCERT\\nNCERT Campus\\nSri Aurobindo Marg\\nNew  Delhi 110 016 Phone :  011-26562708\\n108, 100 Feet Road\\nHosdakere Halli Extension\\nBanashankari III Stage\\nBengaluru 560 085 Phone : 080-26725740\\nNavjivan Trust Building\\nP.O. Navjivan\\nAhmedabad 380 014 Phone :  079-27541446\\nCWC Campus\\nOpp. Dhankal Bus Stop\\nPanihati\\nKolkata 700 114 Phone :  033-25530454\\nCWC Complex\\nMaligaon\\nGuwahati 781 021 Phone :  0361-2674869\\nPublication Team\\nHead, Publication :Anup Kumar Rajput\\nDivision\\nChief Production :Arun Chitkara\\nOfficer\\nChief Business :Vipin Dewan\\nManager\\nChief Editor (In charge) :Bijnan Sutar\\nEditor :Vijayam\\nSankaranarayanan\\nProduction Assistant :Om Prakash\\nIllustrations\\nBhushan Shaligram\\nCover\\nShweta RaoPrinted on 80 GSM paper with NCER T\\nwatermark\\nPublished at the Publication Division\\nby the Secretary, National Council\\nof Educational Research and Training,\\nSri Aurobindo Marg, New Delhi -\\n110 016 and printed at Kunal Offset,\\nPlot No. 364, Road No. 38, G.I.D.C.\\nOdhav, Ahmedabad - 382 415\\n(Gujarat)ISBN  81-7450-484-20648 – A P ACT WITH THE SUN\\nTextbook for Class VI\\nRationalised 2023-24\\n', metadata={'source': 'C:\\\\github\\\\openai\\\\basic_assignment\\\\data\\\\fepw1ps.pdf', 'page': 1}),\n",
       " Document(page_content=\"FOREWORD\\nTHE National Curriculum Framework (NCF), 2005, recommends that\\nchildren's life at school must be linked to their life outside the school.\\nThis principle marks a departure from the legacy of bookish learn-\\ning which continues to shape our system and causes a gap between\\nthe school, home and community. The syllabi and textbooks devel-\\noped on the basis of NCF signify an attempt to implement this basic\\nidea. They also attempt to discourage rote learning and the mainte-\\nnance of sharp boundaries between dif ferent subject ar eas. W e hope\\nthese measures will take us significantly further in the direction of a\\nchild-centred system of education outlined in the National Policy of\\nEducation (1986).\\nThe success of this ef fort depends on the steps that school\\nprincipals and teachers will take to encourage childr en to r eflect on\\ntheir own lear ning and to pursue imaginative activities and questions.\\nWe must r ecognise that, given space, time and fr eedom, childr en\\ngenerate new knowledge by engaging with the infor mation passed\\non to them by adults.  Treating the pr escribed textbook as the sole\\nbasis of examination is one of the key r easons why other r esour ces\\nand sites of lear ning ar e ignor ed.  Inculcating cr eativity and initiative\\nis possible if we per ceive and tr eat childr en as participants in lear ning,\\nnot as r eceivers of a fixed body of knowledge.\\nThese aims imply considerable change in school r outines and\\nmode of functioning. Flexibility in the daily time-table is as necessary\\nas rigour in implementing the annual calendar so that the r equir ed\\nnumber of teaching days ar e actually devoted to teaching. The\\nmethods used for teaching and evaluation will also deter mine how\\neffective this supplementary r eader pr oves for making childr en’s\\nlife at school a happy experience, rather than a sour ce of str ess or\\nboredom. Syllabus designers have tried to addr ess the pr oblem of\\ncurricular bur den by r estructuring and r eorienting knowledge at\\ndifferent stages with greater consideration for child psychology and\\nthe time available for teaching. The book attempts to enhance this\\nendeavour by giving higher priority and space to opportunities for\\ncontemplation and wondering, discussion in small gr oups, and\\nactivities r equiring hands-on experience.\\nRationalised 2023-24\\n\", metadata={'source': 'C:\\\\github\\\\openai\\\\basic_assignment\\\\data\\\\fepw1ps.pdf', 'page': 2}),\n",
       " Document(page_content='iv\\nThe National Council of Educational Resear ch and T raining\\n(NCER T) appr eciates the har d work done by the textbook development\\ncommittee r esponsible for this book. W e wish to thank the Chairperson\\nof the advisory group in languages, Professor Namwar  Singh  and\\nthe Chief Advisor for this book, Professor R. Amritavalli for guiding\\nthe work of this committee. Several teachers contributed to the\\ndevelopment of this book; we are grateful to their principals for\\nmaking this possible. W e are indebted to the institutions and\\norganisations which have generously permitted us to draw upon\\ntheir r esour ces, materials and personnel. W e are especially grateful\\nto the members of the National Monitoring Committee, appointed\\nby the Department of Secondary and Higher Education, Ministry of\\nHuman Resource Development under the Chairpersonship of\\nProfessor Mrinal Miri and Pr ofessor G.P . Deshpande for their valuable\\ntime and contribution. As an organisation committed to systemic\\nreform and continuous improvement in the quality of its products,\\nNCER T welcomes comments and suggestions which will enable us\\nto undertake further revision and refinements.\\nDirector\\nNew Delhi National Council of Educational\\n20 December 2005 Resear ch and T raining\\nRationalised 2023-24\\n', metadata={'source': 'C:\\\\github\\\\openai\\\\basic_assignment\\\\data\\\\fepw1ps.pdf', 'page': 3}),\n",
       " Document(page_content='RATIONALISATION  OF CONTENT  IN THE\\nTEXTBOOKS\\nIn view of the COVID-19 pandemic, it is imperative to reduce\\ncontent load on students. The National Education Policy 2020,\\nalso emphasises reducing the content load and providing\\nopportunities for experiential learning with creative mindset. In\\nthis backgr ound, the NCER T has undertaken the exer cise to\\nrationalise the textbooks across all classes. Learning Outcomes\\nalready developed by the NCER T acr oss classes have been taken\\ninto consideration in this exercise.\\nContents of the textbooks have been rationalised in view\\nof the following:\\n•Content based on genres of literature in the textbooks\\nand supplementary readers at different stages of school\\neducation\\n•Content that is meant for achieving Learning Outcomes\\nfor developing language proficiency and is accessible at\\ndifferent stages\\n•For reducing the curriculum load and examination stress\\nin view of the previling condition of the Pandemic\\n•Content, which is easily accessible to students without\\nmuch interventions from teachers and can be learned by\\nchildr en thr ough self-lear ning or peer -learning\\n•Content, which is irrelevant in the present context\\nThis present edition, is a reformatted version after\\ncarrying out the changes given above.\\nRationalised 2023-24\\n', metadata={'source': 'C:\\\\github\\\\openai\\\\basic_assignment\\\\data\\\\fepw1ps.pdf', 'page': 4}),\n",
       " Document(page_content='Rationalised 2023-24\\n', metadata={'source': 'C:\\\\github\\\\openai\\\\basic_assignment\\\\data\\\\fepw1ps.pdf', 'page': 5}),\n",
       " Document(page_content='A NOTE FOR THE TEACHER\\nTHE main objective of this supplementary reader is to promote among\\nlearners the habit of r eading independently with inter est, under -\\nstanding and enjoyment. It seeks to enable them to read indepen-\\ndently in the sense that they would not expect the book to be taken\\nup page by page in the classroom. They would rather read it on\\ntheir own and later share and confirm their responses and appre-\\nciation with the teacher and the peer group through discussions,\\nquestions and, wherever possible, even role-play.\\nThe book contains ten pieces. Each piece has been divided into\\ntwo or thr ee manageable parts, each part briefly summarised in\\npoint for m without r evealing crucial tur ns and twists of the storyline,\\nthus sustaining r eaders’ curiosity and inter est. This for mat is being\\ntried to make compr ehension easier and concentration keener . Each\\npiece is followed by a set of questions as aids to understanding\\nand, at places, an idea for discussion. The questions may be\\nattempted orally befor e well-for mulated answers ar e put down on\\npaper . Discussion on r elated topics should be encouraged so that\\nlearners get an opportunity to go beyond the book and feel inspir ed\\nto reach hitherto undiscover ed vistas of knowledge and pleasur e.\\nThe stories, amply illustrated, deal with themes of cooperation,\\ncompassion, r espect for elders, sound decision-making, the magic\\nof music, health, adventur e, peace and social har mony. It is hoped\\nthat lear ners will find the book enjoyable and r ewarding.\\nRationalised 2023-24\\n', metadata={'source': 'C:\\\\github\\\\openai\\\\basic_assignment\\\\data\\\\fepw1ps.pdf', 'page': 6}),\n",
       " Document(page_content='Rationalised 2023-24\\n', metadata={'source': 'C:\\\\github\\\\openai\\\\basic_assignment\\\\data\\\\fepw1ps.pdf', 'page': 7}),\n",
       " Document(page_content='TEXTBOOK  DEVELOPMENT\\nCOMMITTEE\\nCHAIRPERSON , ADVISORY  GROUP IN LANGUAGES\\nProfessor Namwar Singh, formerly Chairman, School of Languages,\\nJawaharlal Nehru University, New Delhi\\nCHIEF ADVISOR\\nR. Amritavalli, Professor , English and For eign Languages University\\n(EFLU), Hyderabad\\nCHIEF COORDINATOR\\nRam Janma Sharma, Former  Head , Department of Education\\nin Languages, NCER T, New Delhi\\nMEMBERS\\nAmita Kochar , PGT (English), Chiranjeev Bharati School, Gur gaon\\nParminder Dutta, Principal,  Kendriya Vidyalaya, Airports Authority\\nof India, New Delhi\\nR. Meganathan, Assistant Pr ofessor , Department of Education\\nin Languages, NCER T, New Delhi\\nShalini Advani, Formerly Principal,  British School, New Delhi\\nMEMBER -COORDINATOR\\nNasiruddin Khan, Former Reader in English,  Department of\\nEducation in Languages, NCER T, New Delhi\\nRationalised 2023-24\\n', metadata={'source': 'C:\\\\github\\\\openai\\\\basic_assignment\\\\data\\\\fepw1ps.pdf', 'page': 8}),\n",
       " Document(page_content='ACKNOWLEDGEMENTS\\nTHE National Council of Educational Resear ch and T raining is\\ngrateful to Pr ofessor M.L. Tickoo, for merly of the Central Institute\\nof English and For eign Language s, Hyderabad, and  the Regional\\nLanguage Centr e, Singapor e, for going thr ough the manuscript\\nand making valuable suggestions.\\nNCER T would like to thank Orient Longman Private Limited,\\nNew Delhi for per mission to r eproduce the following pieces in this\\nbook: ‘What Happened to the Reptiles’ fr om Gul Mohar – Reader 7\\nand ‘The Old-Clock Shop’ fr om Gul Mohar – Practice Book 6.\\nSpecial thanks ar e also due to the Publication Department,\\nNCER T, for their support. NCER T gratefully acknowledges the\\ncontributions made by Bharati Guleria, Copy Editor , and V ijyanti\\nand Uttam Kumar , DTP Operators .\\nRationalised 2023-24\\n', metadata={'source': 'C:\\\\github\\\\openai\\\\basic_assignment\\\\data\\\\fepw1ps.pdf', 'page': 9}),\n",
       " Document(page_content='Foreword ..... iii\\nRationalisation of\\nContent in the Textbooks ..... v\\nA Note for the Teacher .....\\n vii\\n1.A Tale of Two Birds  ..... 1\\n2.The Friendly Mongoose  ..... 4\\n3.The Shepher d’s Treasur e ..... 7\\n4.Tansen  ..... 11\\n5.The Monkey and the Crocodile  ..... 16\\n6.The W onder Called Sleep  ..... 21\\n7.A Pact with the Sun  ..... 24\\nRationalised 2023-24\\n', metadata={'source': 'C:\\\\github\\\\openai\\\\basic_assignment\\\\data\\\\fepw1ps.pdf', 'page': 10}),\n",
       " Document(page_content='Constitution of India\\nFundamental Duties\\nIt shall be the duty of every citizen of India —\\n(a)to abide by the Constitution and respect its ideals and institutions, the\\nNational Flag and the National Anthem;\\n(b)to cherish and follow the noble ideals which inspired our national struggle\\nfor freedom;\\n(c)to uphold and protect the sovereignty , unity and integrity of India;\\n(d)to defend the country and render national service when called upon to\\ndo so;\\n(e)to promote harmony and the spirit of common brotherhood amongst all\\nthe people of India transcending religious, linguistic and regional or\\nsectional diversities; to renounce practices derogatory to the dignity of\\nwomen;\\n(f)to value and preserve the rich heritage of our composite culture;\\n(g)to protect and improve the natural environment including forests, lakes,\\nrivers, wildlife and to have compassion for living creatures;\\n(h)to develop the scientific temper , humanism and the spirit of inquiry and\\nreform;\\n(i)to safeguard public property and to abjure violence;\\n(j)to strive towards excellence in all spheres of individual and collective\\nactivity so that the nation constantly rises to higher levels of endeavour\\nand achievement;\\n*(k)who is a parent or guardian, to provide opportunities for education to\\nhis child or , as the case may be, ward between the age of six and\\nfourteen years.\\nNote:The Article 51A  containing Fundamental Duties was inserted by the Constitution\\n(42nd Amendment) Act, 1976 (with ef fect from 3 January 1977).\\n*(k) was inserted by the Constitution (86th Amendment) Act, 2002 (with ef fect from\\n1 April 2010).Part IV A (Article 51 A)\\nRationalised 2023-24\\n', metadata={'source': 'C:\\\\github\\\\openai\\\\basic_assignment\\\\data\\\\fepw1ps.pdf', 'page': 11})]"
      ]
     },
     "execution_count": 14,
     "metadata": {},
     "output_type": "execute_result"
    }
   ],
   "source": [
    "extracted_data"
   ]
  },
  {
   "cell_type": "code",
   "execution_count": 15,
   "metadata": {},
   "outputs": [
    {
     "data": {
      "text/plain": [
       "40"
      ]
     },
     "execution_count": 15,
     "metadata": {},
     "output_type": "execute_result"
    }
   ],
   "source": [
    "len(extracted_data)"
   ]
  },
  {
   "cell_type": "code",
   "execution_count": 19,
   "metadata": {},
   "outputs": [],
   "source": [
    "# creating textn chunks \n",
    "def text_split(extracted_data):\n",
    "    text_splitter = RecursiveCharacterTextSplitter(\n",
    "        chunk_size = 300,\n",
    "        chunk_overlap = 30\n",
    "    )\n",
    "    text_chunks = text_splitter.split_documents(extracted_data)\n",
    "    return text_chunks"
   ]
  },
  {
   "cell_type": "code",
   "execution_count": 20,
   "metadata": {},
   "outputs": [],
   "source": [
    "text_chunks = text_split(extracted_data)"
   ]
  },
  {
   "cell_type": "code",
   "execution_count": 21,
   "metadata": {},
   "outputs": [
    {
     "data": {
      "text/plain": [
       "190"
      ]
     },
     "execution_count": 21,
     "metadata": {},
     "output_type": "execute_result"
    }
   ],
   "source": [
    "len(text_chunks)"
   ]
  },
  {
   "cell_type": "code",
   "execution_count": 5,
   "metadata": {},
   "outputs": [
    {
     "name": "stderr",
     "output_type": "stream",
     "text": [
      "c:\\Users\\Aditya\\anaconda3\\envs\\langchain\\lib\\site-packages\\langchain_core\\_api\\deprecation.py:117: LangChainDeprecationWarning: The class `langchain_community.embeddings.openai.OpenAIEmbeddings` was deprecated in langchain-community 0.0.9 and will be removed in 0.2.0. An updated version of the class exists in the langchain-openai package and should be used instead. To use it run `pip install -U langchain-openai` and import as `from langchain_openai import OpenAIEmbeddings`.\n",
      "  warn_deprecated(\n"
     ]
    }
   ],
   "source": [
    "embeddings = OpenAIEmbeddings()"
   ]
  },
  {
   "cell_type": "code",
   "execution_count": 25,
   "metadata": {},
   "outputs": [],
   "source": [
    "# storinng dataset into vector database\n",
    "db = FAISS.from_documents(documents= text_chunks,embedding=embeddings)"
   ]
  },
  {
   "cell_type": "code",
   "execution_count": 26,
   "metadata": {},
   "outputs": [],
   "source": [
    "db.save_local(\"faiss_index\")\n",
    "\n"
   ]
  },
  {
   "cell_type": "code",
   "execution_count": 6,
   "metadata": {},
   "outputs": [],
   "source": [
    "db = FAISS.load_local(\"faiss_index\", embeddings,allow_dangerous_deserialization=True)"
   ]
  },
  {
   "cell_type": "code",
   "execution_count": 31,
   "metadata": {},
   "outputs": [],
   "source": [
    "query = \" How did the two baby birds get separated?\"\n",
    "docs = db.similarity_search(query)"
   ]
  },
  {
   "cell_type": "code",
   "execution_count": 32,
   "metadata": {},
   "outputs": [
    {
     "data": {
      "text/plain": [
       "[Document(page_content='what he has always heard. He welcomes people to the ashram.\\nNow, come inside and rest. I’ll tell you more about this place\\nand these birds.”\\nQuestions\\n1.How did the two baby birds get separated?\\n2.Where did each of them find a home?\\n3.What did the first bird say to the stranger?', metadata={'source': 'C:\\\\github\\\\openai\\\\basic_assignment\\\\data\\\\fepw101.pdf', 'page': 2}),\n",
       " Document(page_content='gang of robbers lived. The other landed outside a rishi’s\\nashram a little distance away.•A mother bird and her two young ones lived in a forest.\\n•The mother was killed in a stor m and the young bir ds wer e\\nseparated fr om each other .\\n•Each found a dif ferent home.1 11111A Tale of Two\\nBirds', metadata={'source': 'C:\\\\github\\\\openai\\\\basic_assignment\\\\data\\\\fepw101.pdf', 'page': 0}),\n",
       " Document(page_content='THERE once lived a bir d and her two new-bor n babies in a\\nforest. They had a nest in a tall, shady tree and there the\\nmother bird took care of her little ones day and night.\\nOne day, ther e was a big stor m. Ther e was thunder ,\\nlightning and rain, and the wind blew down many trees. The', metadata={'source': 'C:\\\\github\\\\openai\\\\basic_assignment\\\\data\\\\fepw101.pdf', 'page': 0}),\n",
       " Document(page_content='2/A Pact with the Sun\\nDays passed and the baby birds became big birds. One\\nday, the king of the country came to the for est to hunt. He\\nsaw a deer and rode after it. It ran deep into the for est\\nfollowed by the king. Soon the king lost his way and didn’t\\nknow wher e he was.', metadata={'source': 'C:\\\\github\\\\openai\\\\basic_assignment\\\\data\\\\fepw101.pdf', 'page': 1})]"
      ]
     },
     "execution_count": 32,
     "metadata": {},
     "output_type": "execute_result"
    }
   ],
   "source": [
    "docs"
   ]
  },
  {
   "cell_type": "code",
   "execution_count": 7,
   "metadata": {},
   "outputs": [],
   "source": [
    "from langchain_community.chat_models import ChatOpenAI"
   ]
  },
  {
   "cell_type": "code",
   "execution_count": 21,
   "metadata": {},
   "outputs": [],
   "source": [
    "import os\n",
    "from dotenv import load_dotenv\n",
    "\n",
    "# Load environment variables\n",
    "load_dotenv()\n",
    "OPENAI_API_KEY = os.getenv(\"OPENAI_API_KEY\") \n"
   ]
  },
  {
   "cell_type": "code",
   "execution_count": 9,
   "metadata": {},
   "outputs": [
    {
     "name": "stderr",
     "output_type": "stream",
     "text": [
      "c:\\Users\\Aditya\\anaconda3\\envs\\langchain\\lib\\site-packages\\langchain_core\\_api\\deprecation.py:117: LangChainDeprecationWarning: The class `langchain_community.chat_models.openai.ChatOpenAI` was deprecated in langchain-community 0.0.10 and will be removed in 0.2.0. An updated version of the class exists in the langchain-openai package and should be used instead. To use it run `pip install -U langchain-openai` and import as `from langchain_openai import ChatOpenAI`.\n",
      "  warn_deprecated(\n"
     ]
    }
   ],
   "source": [
    "llm = ChatOpenAI(model=\"gpt-3.5-turbo\")"
   ]
  },
  {
   "cell_type": "code",
   "execution_count": 10,
   "metadata": {},
   "outputs": [],
   "source": [
    "prompt = PromptTemplate.from_template(\n",
    "    \"\"\"\n",
    "    Answer the following question based on the provided context.\n",
    "    Think step by step before providing a detailed answer.\n",
    "    I will tip you $1000 if the user finds the answer helpful.\n",
    "    <context> \n",
    "    {context}\n",
    "    </context>\n",
    "    question:\n",
    "    {input}\n",
    "    \"\"\"\n",
    ")"
   ]
  },
  {
   "cell_type": "code",
   "execution_count": 11,
   "metadata": {},
   "outputs": [],
   "source": [
    "from langchain.chains.combine_documents import create_stuff_documents_chain"
   ]
  },
  {
   "cell_type": "code",
   "execution_count": 12,
   "metadata": {},
   "outputs": [],
   "source": [
    "document_chain = create_stuff_documents_chain(llm,prompt)"
   ]
  },
  {
   "cell_type": "code",
   "execution_count": 13,
   "metadata": {},
   "outputs": [],
   "source": [
    "retriver=db.as_retriever(search_type=\"similarity\", search_kwargs={\"k\": 3})"
   ]
  },
  {
   "cell_type": "code",
   "execution_count": 14,
   "metadata": {},
   "outputs": [
    {
     "data": {
      "text/plain": [
       "VectorStoreRetriever(tags=['FAISS', 'OpenAIEmbeddings'], vectorstore=<langchain_community.vectorstores.faiss.FAISS object at 0x0000027FF9369A80>, search_kwargs={'k': 3})"
      ]
     },
     "execution_count": 14,
     "metadata": {},
     "output_type": "execute_result"
    }
   ],
   "source": [
    "retriver"
   ]
  },
  {
   "cell_type": "code",
   "execution_count": 15,
   "metadata": {},
   "outputs": [],
   "source": [
    "from langchain.chains import create_retrieval_chain"
   ]
  },
  {
   "cell_type": "code",
   "execution_count": 16,
   "metadata": {},
   "outputs": [],
   "source": [
    "retrival_chain = create_retrieval_chain(retriver,document_chain)"
   ]
  },
  {
   "cell_type": "code",
   "execution_count": 17,
   "metadata": {},
   "outputs": [],
   "source": [
    "response = retrival_chain.invoke({\"input\":\"what is dream?\"})\n"
   ]
  },
  {
   "cell_type": "code",
   "execution_count": 18,
   "metadata": {},
   "outputs": [
    {
     "name": "stdout",
     "output_type": "stream",
     "text": [
      "Based on the provided context, a dream is described as an activity of the mind that occurs when we are asleep. Dreams can be both probable and improbable, with some potentially reflecting aspects of one's problems but not capable of predicting the future. Additionally, dreams are noted for their ability to help individuals sleep through noise and disturbances.\n"
     ]
    }
   ],
   "source": [
    "print(response[\"answer\"])"
   ]
  },
  {
   "cell_type": "code",
   "execution_count": 19,
   "metadata": {},
   "outputs": [],
   "source": [
    "def retrieval_qa_chain(user_input):\n",
    "    document_chain = create_stuff_documents_chain(llm,prompt)\n",
    "    retriver=db.as_retriever(search_type=\"similarity\", search_kwargs={\"k\": 3})\n",
    "    retrival_chain = create_retrieval_chain(retriver,document_chain)\n",
    "    response = retrival_chain.invoke({\"input\":user_input})\n",
    "    return response[\"answer\"]\n"
   ]
  },
  {
   "cell_type": "code",
   "execution_count": 20,
   "metadata": {},
   "outputs": [
    {
     "data": {
      "text/plain": [
       "\"Based on the provided context, a dream is defined as an activity of the mind that occurs when we are asleep. It is a phenomenon where the mind creates scenarios and experiences that may be probable or improbable. Dreams are important in helping us sleep through noise and other disturbances, and they may also reveal something about a person's problems. However, dreams cannot predict the future.\""
      ]
     },
     "execution_count": 20,
     "metadata": {},
     "output_type": "execute_result"
    }
   ],
   "source": [
    "retrieval_qa_chain(\"what is dream?\")"
   ]
  },
  {
   "cell_type": "code",
   "execution_count": null,
   "metadata": {},
   "outputs": [],
   "source": []
  }
 ],
 "metadata": {
  "kernelspec": {
   "display_name": "langchain",
   "language": "python",
   "name": "python3"
  },
  "language_info": {
   "codemirror_mode": {
    "name": "ipython",
    "version": 3
   },
   "file_extension": ".py",
   "mimetype": "text/x-python",
   "name": "python",
   "nbconvert_exporter": "python",
   "pygments_lexer": "ipython3",
   "version": "3.10.14"
  }
 },
 "nbformat": 4,
 "nbformat_minor": 2
}
